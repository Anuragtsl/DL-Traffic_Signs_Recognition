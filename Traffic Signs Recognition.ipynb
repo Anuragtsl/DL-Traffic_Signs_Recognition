{
 "cells": [
  {
   "cell_type": "code",
   "execution_count": 1,
   "metadata": {},
   "outputs": [],
   "source": [
    "import numpy as np\n",
    "import pandas as pd\n",
    "import matplotlib.pyplot as plt\n",
    "import os\n",
    "from PIL import Image\n",
    "from sklearn.model_selection import train_test_split"
   ]
  },
  {
   "cell_type": "code",
   "execution_count": 2,
   "metadata": {},
   "outputs": [],
   "source": [
    "from tensorflow.keras.utils import to_categorical\n",
    "from tensorflow.keras.models import Sequential\n",
    "from tensorflow.keras.layers import Conv2D, MaxPool2D, Dense, Flatten, Dropout"
   ]
  },
  {
   "cell_type": "code",
   "execution_count": 3,
   "metadata": {},
   "outputs": [],
   "source": [
    "data = []\n",
    "labels = []\n",
    "classes = 43\n",
    "cur_path = os.getcwd()"
   ]
  },
  {
   "cell_type": "code",
   "execution_count": 4,
   "metadata": {},
   "outputs": [],
   "source": [
    "for i in range(classes):\n",
    "    path = os.path.join(cur_path, 'train', str(i))\n",
    "    images = os.listdir(path)\n",
    "    \n",
    "    for a in images:\n",
    "        try:\n",
    "            image = Image.open(path + '\\\\'+ a)\n",
    "            image = image.resize((30,30))\n",
    "            image = np.array(image)\n",
    "            data.append(image)\n",
    "            labels.append(i)\n",
    "            \n",
    "        except:\n",
    "            print('Error loading image!')\n",
    "            \n",
    "data = np.array(data)\n",
    "labels = np.array(labels)"
   ]
  },
  {
   "cell_type": "code",
   "execution_count": 5,
   "metadata": {},
   "outputs": [
    {
     "name": "stdout",
     "output_type": "stream",
     "text": [
      "(39209, 30, 30, 3) (39209,)\n",
      "(31367, 30, 30, 3) (7842, 30, 30, 3) (31367,) (7842,)\n"
     ]
    }
   ],
   "source": [
    "print(data.shape, labels.shape)\n",
    "X_train, X_test, y_train, y_test = train_test_split(data, labels, test_size=0.2, random_state=42)\n",
    "\n",
    "print(X_train.shape, X_test.shape, y_train.shape, y_test.shape)\n",
    "\n",
    "y_train = to_categorical(y_train, 43)\n",
    "y_test = to_categorical(y_test, 43)"
   ]
  },
  {
   "cell_type": "code",
   "execution_count": 6,
   "metadata": {},
   "outputs": [],
   "source": [
    "model = Sequential()\n",
    "\n",
    "model.add(Conv2D(filters=32, kernel_size=(5,5), activation='relu', input_shape = (30,30,3)))\n",
    "model.add(Conv2D(filters=32, kernel_size=(5,5), activation='relu'))\n",
    "model.add(MaxPool2D(pool_size=(2,2)))\n",
    "model.add(Dropout(rate=0.25))\n",
    "model.add(Conv2D(filters=64, kernel_size=(3,3), activation='relu'))\n",
    "model.add(Conv2D(filters=64, kernel_size=(3,3), activation='relu'))\n",
    "model.add(MaxPool2D(pool_size=(2,2)))\n",
    "model.add(Dropout(rate=0.25))\n",
    "model.add(Flatten())\n",
    "model.add(Dense(256, activation='relu'))\n",
    "model.add(Dropout(rate=0.5))\n",
    "model.add(Dense(43, activation='softmax'))"
   ]
  },
  {
   "cell_type": "code",
   "execution_count": 7,
   "metadata": {},
   "outputs": [],
   "source": [
    "model.compile(loss='categorical_crossentropy', optimizer='adam', metrics=['accuracy'])"
   ]
  },
  {
   "cell_type": "code",
   "execution_count": 8,
   "metadata": {},
   "outputs": [
    {
     "name": "stdout",
     "output_type": "stream",
     "text": [
      "Train on 31367 samples, validate on 7842 samples\n",
      "Epoch 1/15\n",
      "31367/31367 [==============================] - 109s 3ms/sample - loss: 2.5357 - accuracy: 0.3807 - val_loss: 0.6902 - val_accuracy: 0.8239\n",
      "Epoch 2/15\n",
      "31367/31367 [==============================] - 104s 3ms/sample - loss: 0.7628 - accuracy: 0.7720 - val_loss: 0.2147 - val_accuracy: 0.9463\n",
      "Epoch 3/15\n",
      "31367/31367 [==============================] - 107s 3ms/sample - loss: 0.4156 - accuracy: 0.8782 - val_loss: 0.1184 - val_accuracy: 0.9725\n",
      "Epoch 4/15\n",
      "31367/31367 [==============================] - 105s 3ms/sample - loss: 0.3085 - accuracy: 0.9113 - val_loss: 0.0780 - val_accuracy: 0.9816\n",
      "Epoch 5/15\n",
      "31367/31367 [==============================] - 105s 3ms/sample - loss: 0.2515 - accuracy: 0.9279 - val_loss: 0.0607 - val_accuracy: 0.9860\n",
      "Epoch 6/15\n",
      "31367/31367 [==============================] - 107s 3ms/sample - loss: 0.2166 - accuracy: 0.9373 - val_loss: 0.0710 - val_accuracy: 0.9818\n",
      "Epoch 7/15\n",
      "31367/31367 [==============================] - 106s 3ms/sample - loss: 0.1978 - accuracy: 0.9443 - val_loss: 0.0415 - val_accuracy: 0.9894\n",
      "Epoch 8/15\n",
      "31367/31367 [==============================] - 107s 3ms/sample - loss: 0.1826 - accuracy: 0.9508 - val_loss: 0.0450 - val_accuracy: 0.9860\n",
      "Epoch 9/15\n",
      "31367/31367 [==============================] - 109s 3ms/sample - loss: 0.1634 - accuracy: 0.9540 - val_loss: 0.0389 - val_accuracy: 0.9883\n",
      "Epoch 10/15\n",
      "31367/31367 [==============================] - 110s 3ms/sample - loss: 0.1776 - accuracy: 0.9521 - val_loss: 0.0788 - val_accuracy: 0.9769\n",
      "Epoch 11/15\n",
      "31367/31367 [==============================] - 107s 3ms/sample - loss: 0.1661 - accuracy: 0.9560 - val_loss: 0.0349 - val_accuracy: 0.9895\n",
      "Epoch 12/15\n",
      "31367/31367 [==============================] - 112s 4ms/sample - loss: 0.1362 - accuracy: 0.9636 - val_loss: 0.0313 - val_accuracy: 0.9929\n",
      "Epoch 13/15\n",
      "31367/31367 [==============================] - 105s 3ms/sample - loss: 0.1468 - accuracy: 0.9601 - val_loss: 0.0330 - val_accuracy: 0.9917\n",
      "Epoch 14/15\n",
      "31367/31367 [==============================] - 107s 3ms/sample - loss: 0.1381 - accuracy: 0.9627 - val_loss: 0.0351 - val_accuracy: 0.9901\n",
      "Epoch 15/15\n",
      "31367/31367 [==============================] - 107s 3ms/sample - loss: 0.1401 - accuracy: 0.9633 - val_loss: 0.0770 - val_accuracy: 0.9828\n"
     ]
    }
   ],
   "source": [
    "epochs = 15\n",
    "history = model.fit(X_train, y_train, batch_size=64, epochs=epochs, validation_data=(X_test, y_test))"
   ]
  },
  {
   "cell_type": "code",
   "execution_count": 9,
   "metadata": {},
   "outputs": [
    {
     "data": {
      "text/plain": [
       "<matplotlib.legend.Legend at 0x1c9ee82efc8>"
      ]
     },
     "execution_count": 9,
     "metadata": {},
     "output_type": "execute_result"
    },
    {
     "data": {
      "image/png": "[encoded data removed]",
      "text/plain": [
       "<Figure size 432x288 with 1 Axes>"
      ]
     },
     "metadata": {
      "needs_background": "light"
     },
     "output_type": "display_data"
    },
    {
     "data": {
      "image/png": "[encoded data removed]",
      "text/plain": [
       "<Figure size 432x288 with 1 Axes>"
      ]
     },
     "metadata": {
      "needs_background": "light"
     },
     "output_type": "display_data"
    }
   ],
   "source": [
    "plt.figure(0)\n",
    "plt.plot(history.history['accuracy'], label='training accuracy')\n",
    "plt.plot(history.history['val_accuracy'], label='val accuracy')\n",
    "plt.title('Accuracy')\n",
    "plt.xlabel('epochs')\n",
    "plt.ylabel('accuracy')\n",
    "plt.legend()\n",
    "\n",
    "plt.figure(1)\n",
    "plt.plot(history.history['loss'], label='training loss')\n",
    "plt.plot(history.history['val_loss'], label='val loss')\n",
    "plt.title('Loss')\n",
    "plt.xlabel('epochs')\n",
    "plt.ylabel('loss')\n",
    "plt.legend()"
   ]
  },
  {
   "cell_type": "code",
   "execution_count": 10,
   "metadata": {},
   "outputs": [],
   "source": [
    "model.save('traffic_classifier.h5')"
   ]
  },
  {
   "cell_type": "code",
   "execution_count": null,
   "metadata": {},
   "outputs": [],
   "source": []
  }
 ],
 "metadata": {
  "kernelspec": {
   "display_name": "Python 3",
   "language": "python",
   "name": "python3"
  },
  "language_info": {
   "codemirror_mode": {
    "name": "ipython",
    "version": 3
   },
   "file_extension": ".py",
   "mimetype": "text/x-python",
   "name": "python",
   "nbconvert_exporter": "python",
   "pygments_lexer": "ipython3",
   "version": "3.7.6"
  }
 },
 "nbformat": 4,
 "nbformat_minor": 4
}
